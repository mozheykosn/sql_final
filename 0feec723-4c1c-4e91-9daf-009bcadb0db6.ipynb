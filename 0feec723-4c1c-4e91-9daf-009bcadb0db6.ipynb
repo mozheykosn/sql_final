{
 "cells": [
  {
   "cell_type": "markdown",
   "id": "c1be7d43",
   "metadata": {},
   "source": [
    "# Analysis of a Book Reading Service Database"
   ]
  },
  {
   "cell_type": "markdown",
   "id": "43eef418",
   "metadata": {},
   "source": [
    "\n",
    "\n",
    "The world was taken by surprise by the coronavirus, changing the usual order of things. People no longer go out, visit cafes, or shopping centers in their free time. However, there is now more time for books.\n",
    "\n",
    "Objective: Analyze the database of a large book reading subscription service. It contains information about books, publishers, authors, and user reviews of books. This data will help formulate a value proposition for a new product.\n",
    "\n",
    "**Data Description**\n",
    "\n",
    "**Table: `books`**\n",
    "\n",
    "Contains data about books:\n",
    "\n",
    "- `book_id` - book identifier;\n",
    "- `author_id` - author identifier;\n",
    "- `title` - book title;\n",
    "- `num_pages` - number of pages;\n",
    "- `publication_date` - book publication date;\n",
    "- `publisher_id` - publisher identifier.\n",
    "\n",
    "**Table: `authors`**\n",
    "\n",
    "Contains data about authors:\n",
    "\n",
    "- `author_id` - author identifier;\n",
    "- `author` - author's name.\n",
    "\n",
    "**Table: `publishers`**\n",
    "\n",
    "Contains data about publishers:\n",
    "\n",
    "- `publisher_id` - publisher identifier;\n",
    "- `publisher` - publisher's name;\n",
    "\n",
    "**Table: `ratings`**\n",
    "\n",
    "Contains data about user ratings of books:\n",
    "\n",
    "- `rating_id` - rating identifier;\n",
    "- `book_id` - book identifier;\n",
    "- `username` - username of the user who left the rating;\n",
    "- `rating` - book rating.\n",
    "\n",
    "**Table: `reviews`**\n",
    "\n",
    "Contains data about user reviews of books:\n",
    "\n",
    "- `review_id` - review identifier;\n",
    "- `book_id` - book identifier;\n",
    "- `username` - username of the user who wrote the review;\n",
    "- `text` - review text.\n",
    "\n",
    "**Tasks**\n",
    "\n",
    "- Calculate the number of books released after January 1, 2000;\n",
    "- For each book, calculate the number of reviews and the average rating;\n",
    "- Determine the publisher that has released the most books with more than 50 pages;\n",
    "- Identify the author with the highest average rating for books, considering only books with 50 or more ratings;\n",
    "- Calculate the average number of reviews from users who have given more than 48 ratings."
   ]
  },
  {
   "cell_type": "markdown",
   "id": "fa0162b7",
   "metadata": {},
   "source": [
    "## Data Loading and Analysis"
   ]
  },
  {
   "cell_type": "code",
   "execution_count": 1,
   "id": "77a877d5",
   "metadata": {},
   "outputs": [
    {
     "data": {
      "text/html": [
       "<div>\n",
       "<style scoped>\n",
       "    .dataframe tbody tr th:only-of-type {\n",
       "        vertical-align: middle;\n",
       "    }\n",
       "\n",
       "    .dataframe tbody tr th {\n",
       "        vertical-align: top;\n",
       "    }\n",
       "\n",
       "    .dataframe thead th {\n",
       "        text-align: right;\n",
       "    }\n",
       "</style>\n",
       "<table border=\"1\" class=\"dataframe\">\n",
       "  <thead>\n",
       "    <tr style=\"text-align: right;\">\n",
       "      <th></th>\n",
       "      <th>book_id</th>\n",
       "      <th>author_id</th>\n",
       "      <th>title</th>\n",
       "      <th>num_pages</th>\n",
       "      <th>publication_date</th>\n",
       "      <th>publisher_id</th>\n",
       "    </tr>\n",
       "  </thead>\n",
       "  <tbody>\n",
       "    <tr>\n",
       "      <th>0</th>\n",
       "      <td>1</td>\n",
       "      <td>546</td>\n",
       "      <td>'Salem's Lot</td>\n",
       "      <td>594</td>\n",
       "      <td>2005-11-01</td>\n",
       "      <td>93</td>\n",
       "    </tr>\n",
       "    <tr>\n",
       "      <th>1</th>\n",
       "      <td>2</td>\n",
       "      <td>465</td>\n",
       "      <td>1 000 Places to See Before You Die</td>\n",
       "      <td>992</td>\n",
       "      <td>2003-05-22</td>\n",
       "      <td>336</td>\n",
       "    </tr>\n",
       "    <tr>\n",
       "      <th>2</th>\n",
       "      <td>3</td>\n",
       "      <td>407</td>\n",
       "      <td>13 Little Blue Envelopes (Little Blue Envelope...</td>\n",
       "      <td>322</td>\n",
       "      <td>2010-12-21</td>\n",
       "      <td>135</td>\n",
       "    </tr>\n",
       "    <tr>\n",
       "      <th>3</th>\n",
       "      <td>4</td>\n",
       "      <td>82</td>\n",
       "      <td>1491: New Revelations of the Americas Before C...</td>\n",
       "      <td>541</td>\n",
       "      <td>2006-10-10</td>\n",
       "      <td>309</td>\n",
       "    </tr>\n",
       "    <tr>\n",
       "      <th>4</th>\n",
       "      <td>5</td>\n",
       "      <td>125</td>\n",
       "      <td>1776</td>\n",
       "      <td>386</td>\n",
       "      <td>2006-07-04</td>\n",
       "      <td>268</td>\n",
       "    </tr>\n",
       "  </tbody>\n",
       "</table>\n",
       "</div>"
      ],
      "text/plain": [
       "   book_id  author_id                                              title  \\\n",
       "0        1        546                                       'Salem's Lot   \n",
       "1        2        465                 1 000 Places to See Before You Die   \n",
       "2        3        407  13 Little Blue Envelopes (Little Blue Envelope...   \n",
       "3        4         82  1491: New Revelations of the Americas Before C...   \n",
       "4        5        125                                               1776   \n",
       "\n",
       "   num_pages publication_date  publisher_id  \n",
       "0        594       2005-11-01            93  \n",
       "1        992       2003-05-22           336  \n",
       "2        322       2010-12-21           135  \n",
       "3        541       2006-10-10           309  \n",
       "4        386       2006-07-04           268  "
      ]
     },
     "execution_count": 1,
     "metadata": {},
     "output_type": "execute_result"
    }
   ],
   "source": [
    "# импортируем библиотеки\n",
    "import pandas as pd\n",
    "from sqlalchemy import text, create_engine\n",
    "\n",
    "# устанавливаем параметры\n",
    "db_config = {'user': 'praktikum_student', # имя пользователя\n",
    "'pwd': 'Sdf4$2;d-d30pp', # пароль\n",
    "'host': 'rc1b-wcoijxj3yxfsf3fs.mdb.yandexcloud.net',\n",
    "'port': 6432, # порт подключения\n",
    "'db': 'data-analyst-final-project-db'} # название базы данных\n",
    "connection_string = 'postgresql://{user}:{pwd}@{host}:{port}/{db}'.format(**db_config)\n",
    "\n",
    "# сохраняем коннектор\n",
    "engine = create_engine(connection_string, connect_args={'sslmode':'require'})\n",
    "\n",
    "# чтобы выполнить SQL-запрос, используем Pandas\n",
    "query = '''SELECT * FROM books LIMIT 5'''\n",
    "\n",
    "con=engine.connect()\n",
    "\n",
    "pd.io.sql.read_sql(sql=text(query), con = con)"
   ]
  },
  {
   "cell_type": "code",
   "execution_count": 2,
   "id": "c154e41c",
   "metadata": {},
   "outputs": [
    {
     "data": {
      "text/html": [
       "<div>\n",
       "<style scoped>\n",
       "    .dataframe tbody tr th:only-of-type {\n",
       "        vertical-align: middle;\n",
       "    }\n",
       "\n",
       "    .dataframe tbody tr th {\n",
       "        vertical-align: top;\n",
       "    }\n",
       "\n",
       "    .dataframe thead th {\n",
       "        text-align: right;\n",
       "    }\n",
       "</style>\n",
       "<table border=\"1\" class=\"dataframe\">\n",
       "  <thead>\n",
       "    <tr style=\"text-align: right;\">\n",
       "      <th></th>\n",
       "      <th>author_id</th>\n",
       "      <th>author</th>\n",
       "    </tr>\n",
       "  </thead>\n",
       "  <tbody>\n",
       "    <tr>\n",
       "      <th>0</th>\n",
       "      <td>1</td>\n",
       "      <td>A.S. Byatt</td>\n",
       "    </tr>\n",
       "    <tr>\n",
       "      <th>1</th>\n",
       "      <td>2</td>\n",
       "      <td>Aesop/Laura Harris/Laura Gibbs</td>\n",
       "    </tr>\n",
       "    <tr>\n",
       "      <th>2</th>\n",
       "      <td>3</td>\n",
       "      <td>Agatha Christie</td>\n",
       "    </tr>\n",
       "    <tr>\n",
       "      <th>3</th>\n",
       "      <td>4</td>\n",
       "      <td>Alan Brennert</td>\n",
       "    </tr>\n",
       "    <tr>\n",
       "      <th>4</th>\n",
       "      <td>5</td>\n",
       "      <td>Alan Moore/David   Lloyd</td>\n",
       "    </tr>\n",
       "  </tbody>\n",
       "</table>\n",
       "</div>"
      ],
      "text/plain": [
       "   author_id                          author\n",
       "0          1                      A.S. Byatt\n",
       "1          2  Aesop/Laura Harris/Laura Gibbs\n",
       "2          3                 Agatha Christie\n",
       "3          4                   Alan Brennert\n",
       "4          5        Alan Moore/David   Lloyd"
      ]
     },
     "execution_count": 2,
     "metadata": {},
     "output_type": "execute_result"
    }
   ],
   "source": [
    "query = '''SELECT * FROM authors LIMIT 5'''\n",
    "\n",
    "con=engine.connect()\n",
    "\n",
    "pd.io.sql.read_sql(sql=text(query), con = con)"
   ]
  },
  {
   "cell_type": "code",
   "execution_count": 3,
   "id": "468234f3",
   "metadata": {},
   "outputs": [
    {
     "data": {
      "text/html": [
       "<div>\n",
       "<style scoped>\n",
       "    .dataframe tbody tr th:only-of-type {\n",
       "        vertical-align: middle;\n",
       "    }\n",
       "\n",
       "    .dataframe tbody tr th {\n",
       "        vertical-align: top;\n",
       "    }\n",
       "\n",
       "    .dataframe thead th {\n",
       "        text-align: right;\n",
       "    }\n",
       "</style>\n",
       "<table border=\"1\" class=\"dataframe\">\n",
       "  <thead>\n",
       "    <tr style=\"text-align: right;\">\n",
       "      <th></th>\n",
       "      <th>publisher_id</th>\n",
       "      <th>publisher</th>\n",
       "    </tr>\n",
       "  </thead>\n",
       "  <tbody>\n",
       "    <tr>\n",
       "      <th>0</th>\n",
       "      <td>1</td>\n",
       "      <td>Ace</td>\n",
       "    </tr>\n",
       "    <tr>\n",
       "      <th>1</th>\n",
       "      <td>2</td>\n",
       "      <td>Ace Book</td>\n",
       "    </tr>\n",
       "    <tr>\n",
       "      <th>2</th>\n",
       "      <td>3</td>\n",
       "      <td>Ace Books</td>\n",
       "    </tr>\n",
       "    <tr>\n",
       "      <th>3</th>\n",
       "      <td>4</td>\n",
       "      <td>Ace Hardcover</td>\n",
       "    </tr>\n",
       "    <tr>\n",
       "      <th>4</th>\n",
       "      <td>5</td>\n",
       "      <td>Addison Wesley Publishing Company</td>\n",
       "    </tr>\n",
       "  </tbody>\n",
       "</table>\n",
       "</div>"
      ],
      "text/plain": [
       "   publisher_id                          publisher\n",
       "0             1                                Ace\n",
       "1             2                           Ace Book\n",
       "2             3                          Ace Books\n",
       "3             4                      Ace Hardcover\n",
       "4             5  Addison Wesley Publishing Company"
      ]
     },
     "execution_count": 3,
     "metadata": {},
     "output_type": "execute_result"
    }
   ],
   "source": [
    "query = '''SELECT * FROM publishers LIMIT 5'''\n",
    "\n",
    "con=engine.connect()\n",
    "\n",
    "pd.io.sql.read_sql(sql=text(query), con = con)"
   ]
  },
  {
   "cell_type": "code",
   "execution_count": 4,
   "id": "089456e8",
   "metadata": {},
   "outputs": [
    {
     "data": {
      "text/html": [
       "<div>\n",
       "<style scoped>\n",
       "    .dataframe tbody tr th:only-of-type {\n",
       "        vertical-align: middle;\n",
       "    }\n",
       "\n",
       "    .dataframe tbody tr th {\n",
       "        vertical-align: top;\n",
       "    }\n",
       "\n",
       "    .dataframe thead th {\n",
       "        text-align: right;\n",
       "    }\n",
       "</style>\n",
       "<table border=\"1\" class=\"dataframe\">\n",
       "  <thead>\n",
       "    <tr style=\"text-align: right;\">\n",
       "      <th></th>\n",
       "      <th>rating_id</th>\n",
       "      <th>book_id</th>\n",
       "      <th>username</th>\n",
       "      <th>rating</th>\n",
       "    </tr>\n",
       "  </thead>\n",
       "  <tbody>\n",
       "    <tr>\n",
       "      <th>0</th>\n",
       "      <td>1</td>\n",
       "      <td>1</td>\n",
       "      <td>ryanfranco</td>\n",
       "      <td>4</td>\n",
       "    </tr>\n",
       "    <tr>\n",
       "      <th>1</th>\n",
       "      <td>2</td>\n",
       "      <td>1</td>\n",
       "      <td>grantpatricia</td>\n",
       "      <td>2</td>\n",
       "    </tr>\n",
       "    <tr>\n",
       "      <th>2</th>\n",
       "      <td>3</td>\n",
       "      <td>1</td>\n",
       "      <td>brandtandrea</td>\n",
       "      <td>5</td>\n",
       "    </tr>\n",
       "    <tr>\n",
       "      <th>3</th>\n",
       "      <td>4</td>\n",
       "      <td>2</td>\n",
       "      <td>lorichen</td>\n",
       "      <td>3</td>\n",
       "    </tr>\n",
       "    <tr>\n",
       "      <th>4</th>\n",
       "      <td>5</td>\n",
       "      <td>2</td>\n",
       "      <td>mariokeller</td>\n",
       "      <td>2</td>\n",
       "    </tr>\n",
       "  </tbody>\n",
       "</table>\n",
       "</div>"
      ],
      "text/plain": [
       "   rating_id  book_id       username  rating\n",
       "0          1        1     ryanfranco       4\n",
       "1          2        1  grantpatricia       2\n",
       "2          3        1   brandtandrea       5\n",
       "3          4        2       lorichen       3\n",
       "4          5        2    mariokeller       2"
      ]
     },
     "execution_count": 4,
     "metadata": {},
     "output_type": "execute_result"
    }
   ],
   "source": [
    "query = '''SELECT * FROM ratings LIMIT 5'''\n",
    "\n",
    "con=engine.connect()\n",
    "\n",
    "pd.io.sql.read_sql(sql=text(query), con = con)"
   ]
  },
  {
   "cell_type": "code",
   "execution_count": 5,
   "id": "48a37247",
   "metadata": {},
   "outputs": [
    {
     "data": {
      "text/html": [
       "<div>\n",
       "<style scoped>\n",
       "    .dataframe tbody tr th:only-of-type {\n",
       "        vertical-align: middle;\n",
       "    }\n",
       "\n",
       "    .dataframe tbody tr th {\n",
       "        vertical-align: top;\n",
       "    }\n",
       "\n",
       "    .dataframe thead th {\n",
       "        text-align: right;\n",
       "    }\n",
       "</style>\n",
       "<table border=\"1\" class=\"dataframe\">\n",
       "  <thead>\n",
       "    <tr style=\"text-align: right;\">\n",
       "      <th></th>\n",
       "      <th>review_id</th>\n",
       "      <th>book_id</th>\n",
       "      <th>username</th>\n",
       "      <th>text</th>\n",
       "    </tr>\n",
       "  </thead>\n",
       "  <tbody>\n",
       "    <tr>\n",
       "      <th>0</th>\n",
       "      <td>1</td>\n",
       "      <td>1</td>\n",
       "      <td>brandtandrea</td>\n",
       "      <td>Mention society tell send professor analysis. ...</td>\n",
       "    </tr>\n",
       "    <tr>\n",
       "      <th>1</th>\n",
       "      <td>2</td>\n",
       "      <td>1</td>\n",
       "      <td>ryanfranco</td>\n",
       "      <td>Foot glass pretty audience hit themselves. Amo...</td>\n",
       "    </tr>\n",
       "    <tr>\n",
       "      <th>2</th>\n",
       "      <td>3</td>\n",
       "      <td>2</td>\n",
       "      <td>lorichen</td>\n",
       "      <td>Listen treat keep worry. Miss husband tax but ...</td>\n",
       "    </tr>\n",
       "    <tr>\n",
       "      <th>3</th>\n",
       "      <td>4</td>\n",
       "      <td>3</td>\n",
       "      <td>johnsonamanda</td>\n",
       "      <td>Finally month interesting blue could nature cu...</td>\n",
       "    </tr>\n",
       "    <tr>\n",
       "      <th>4</th>\n",
       "      <td>5</td>\n",
       "      <td>3</td>\n",
       "      <td>scotttamara</td>\n",
       "      <td>Nation purpose heavy give wait song will. List...</td>\n",
       "    </tr>\n",
       "  </tbody>\n",
       "</table>\n",
       "</div>"
      ],
      "text/plain": [
       "   review_id  book_id       username  \\\n",
       "0          1        1   brandtandrea   \n",
       "1          2        1     ryanfranco   \n",
       "2          3        2       lorichen   \n",
       "3          4        3  johnsonamanda   \n",
       "4          5        3    scotttamara   \n",
       "\n",
       "                                                text  \n",
       "0  Mention society tell send professor analysis. ...  \n",
       "1  Foot glass pretty audience hit themselves. Amo...  \n",
       "2  Listen treat keep worry. Miss husband tax but ...  \n",
       "3  Finally month interesting blue could nature cu...  \n",
       "4  Nation purpose heavy give wait song will. List...  "
      ]
     },
     "execution_count": 5,
     "metadata": {},
     "output_type": "execute_result"
    }
   ],
   "source": [
    "query = '''SELECT * FROM reviews LIMIT 5'''\n",
    "\n",
    "con=engine.connect()\n",
    "\n",
    "pd.io.sql.read_sql(sql=text(query), con = con)"
   ]
  },
  {
   "cell_type": "code",
   "execution_count": 6,
   "id": "9924bc5a",
   "metadata": {},
   "outputs": [
    {
     "data": {
      "text/html": [
       "<div>\n",
       "<style scoped>\n",
       "    .dataframe tbody tr th:only-of-type {\n",
       "        vertical-align: middle;\n",
       "    }\n",
       "\n",
       "    .dataframe tbody tr th {\n",
       "        vertical-align: top;\n",
       "    }\n",
       "\n",
       "    .dataframe thead th {\n",
       "        text-align: right;\n",
       "    }\n",
       "</style>\n",
       "<table border=\"1\" class=\"dataframe\">\n",
       "  <thead>\n",
       "    <tr style=\"text-align: right;\">\n",
       "      <th></th>\n",
       "      <th>count</th>\n",
       "    </tr>\n",
       "  </thead>\n",
       "  <tbody>\n",
       "    <tr>\n",
       "      <th>0</th>\n",
       "      <td>2793</td>\n",
       "    </tr>\n",
       "  </tbody>\n",
       "</table>\n",
       "</div>"
      ],
      "text/plain": [
       "   count\n",
       "0   2793"
      ]
     },
     "execution_count": 6,
     "metadata": {},
     "output_type": "execute_result"
    }
   ],
   "source": [
    "query = '''SELECT COUNT(DISTINCT review_id) FROM reviews'''\n",
    "\n",
    "con=engine.connect()\n",
    "\n",
    "pd.io.sql.read_sql(sql=text(query), con = con)"
   ]
  },
  {
   "cell_type": "markdown",
   "id": "a1d4cf56",
   "metadata": {},
   "source": [
    "## Number of Books Released After January 1, 2000"
   ]
  },
  {
   "cell_type": "code",
   "execution_count": 7,
   "id": "dfcca5f1",
   "metadata": {},
   "outputs": [
    {
     "data": {
      "text/html": [
       "<div>\n",
       "<style scoped>\n",
       "    .dataframe tbody tr th:only-of-type {\n",
       "        vertical-align: middle;\n",
       "    }\n",
       "\n",
       "    .dataframe tbody tr th {\n",
       "        vertical-align: top;\n",
       "    }\n",
       "\n",
       "    .dataframe thead th {\n",
       "        text-align: right;\n",
       "    }\n",
       "</style>\n",
       "<table border=\"1\" class=\"dataframe\">\n",
       "  <thead>\n",
       "    <tr style=\"text-align: right;\">\n",
       "      <th></th>\n",
       "      <th>count</th>\n",
       "    </tr>\n",
       "  </thead>\n",
       "  <tbody>\n",
       "    <tr>\n",
       "      <th>0</th>\n",
       "      <td>819</td>\n",
       "    </tr>\n",
       "  </tbody>\n",
       "</table>\n",
       "</div>"
      ],
      "text/plain": [
       "   count\n",
       "0    819"
      ]
     },
     "execution_count": 7,
     "metadata": {},
     "output_type": "execute_result"
    }
   ],
   "source": [
    "query = \"\"\"SELECT COUNT(book_id) \n",
    "           FROM books\n",
    "           WHERE publication_date > '2000-01-01'\"\"\"\n",
    "\n",
    "con = engine.connect()\n",
    "\n",
    "pd.io.sql.read_sql(sql=text(query), con=con)\n"
   ]
  },
  {
   "cell_type": "markdown",
   "id": "3f7e4f63",
   "metadata": {},
   "source": [
    "819 books were released after January 1, 2000."
   ]
  },
  {
   "cell_type": "markdown",
   "id": "d6cf4840",
   "metadata": {},
   "source": [
    "## Number of Reviews and Average Rating"
   ]
  },
  {
   "cell_type": "code",
   "execution_count": 47,
   "id": "a3f0a104",
   "metadata": {},
   "outputs": [
    {
     "data": {
      "text/html": [
       "<div>\n",
       "<style scoped>\n",
       "    .dataframe tbody tr th:only-of-type {\n",
       "        vertical-align: middle;\n",
       "    }\n",
       "\n",
       "    .dataframe tbody tr th {\n",
       "        vertical-align: top;\n",
       "    }\n",
       "\n",
       "    .dataframe thead th {\n",
       "        text-align: right;\n",
       "    }\n",
       "</style>\n",
       "<table border=\"1\" class=\"dataframe\">\n",
       "  <thead>\n",
       "    <tr style=\"text-align: right;\">\n",
       "      <th></th>\n",
       "      <th>title</th>\n",
       "      <th>count_review</th>\n",
       "      <th>avg_rating</th>\n",
       "    </tr>\n",
       "  </thead>\n",
       "  <tbody>\n",
       "    <tr>\n",
       "      <th>0</th>\n",
       "      <td>A Dirty Job (Grim Reaper  #1)</td>\n",
       "      <td>4</td>\n",
       "      <td>5.00</td>\n",
       "    </tr>\n",
       "    <tr>\n",
       "      <th>1</th>\n",
       "      <td>School's Out—Forever (Maximum Ride  #2)</td>\n",
       "      <td>3</td>\n",
       "      <td>5.00</td>\n",
       "    </tr>\n",
       "    <tr>\n",
       "      <th>2</th>\n",
       "      <td>Moneyball: The Art of Winning an Unfair Game</td>\n",
       "      <td>3</td>\n",
       "      <td>5.00</td>\n",
       "    </tr>\n",
       "    <tr>\n",
       "      <th>3</th>\n",
       "      <td>Arrows of the Queen (Heralds of Valdemar  #1)</td>\n",
       "      <td>2</td>\n",
       "      <td>5.00</td>\n",
       "    </tr>\n",
       "    <tr>\n",
       "      <th>4</th>\n",
       "      <td>Wherever You Go  There You Are: Mindfulness Me...</td>\n",
       "      <td>2</td>\n",
       "      <td>5.00</td>\n",
       "    </tr>\n",
       "    <tr>\n",
       "      <th>...</th>\n",
       "      <td>...</td>\n",
       "      <td>...</td>\n",
       "      <td>...</td>\n",
       "    </tr>\n",
       "    <tr>\n",
       "      <th>995</th>\n",
       "      <td>The World Is Flat: A Brief History of the Twen...</td>\n",
       "      <td>3</td>\n",
       "      <td>2.25</td>\n",
       "    </tr>\n",
       "    <tr>\n",
       "      <th>996</th>\n",
       "      <td>Drowning Ruth</td>\n",
       "      <td>3</td>\n",
       "      <td>2.00</td>\n",
       "    </tr>\n",
       "    <tr>\n",
       "      <th>997</th>\n",
       "      <td>His Excellency: George Washington</td>\n",
       "      <td>2</td>\n",
       "      <td>2.00</td>\n",
       "    </tr>\n",
       "    <tr>\n",
       "      <th>998</th>\n",
       "      <td>Junky</td>\n",
       "      <td>2</td>\n",
       "      <td>2.00</td>\n",
       "    </tr>\n",
       "    <tr>\n",
       "      <th>999</th>\n",
       "      <td>Harvesting the Heart</td>\n",
       "      <td>2</td>\n",
       "      <td>1.50</td>\n",
       "    </tr>\n",
       "  </tbody>\n",
       "</table>\n",
       "<p>1000 rows × 3 columns</p>\n",
       "</div>"
      ],
      "text/plain": [
       "                                                 title  count_review  \\\n",
       "0                        A Dirty Job (Grim Reaper  #1)             4   \n",
       "1              School's Out—Forever (Maximum Ride  #2)             3   \n",
       "2         Moneyball: The Art of Winning an Unfair Game             3   \n",
       "3        Arrows of the Queen (Heralds of Valdemar  #1)             2   \n",
       "4    Wherever You Go  There You Are: Mindfulness Me...             2   \n",
       "..                                                 ...           ...   \n",
       "995  The World Is Flat: A Brief History of the Twen...             3   \n",
       "996                                      Drowning Ruth             3   \n",
       "997                  His Excellency: George Washington             2   \n",
       "998                                              Junky             2   \n",
       "999                               Harvesting the Heart             2   \n",
       "\n",
       "     avg_rating  \n",
       "0          5.00  \n",
       "1          5.00  \n",
       "2          5.00  \n",
       "3          5.00  \n",
       "4          5.00  \n",
       "..          ...  \n",
       "995        2.25  \n",
       "996        2.00  \n",
       "997        2.00  \n",
       "998        2.00  \n",
       "999        1.50  \n",
       "\n",
       "[1000 rows x 3 columns]"
      ]
     },
     "execution_count": 47,
     "metadata": {},
     "output_type": "execute_result"
    }
   ],
   "source": [
    "query = \"\"\"SELECT b.title,\n",
    "                  COUNT(DISTINCT rw.review_id) AS count_review,\n",
    "                  AVG(r.rating) AS avg_rating\n",
    "           FROM books AS b\n",
    "           LEFT JOIN reviews AS rw ON b.book_id = rw.book_id\n",
    "           LEFT JOIN ratings AS r ON b.book_id = r.book_id\n",
    "           GROUP BY b.book_id\n",
    "           ORDER BY avg_rating DESC, count_review DESC\"\"\"\n",
    "\n",
    "con = engine.connect()\n",
    "\n",
    "pd.io.sql.read_sql(sql=text(query), con=con)\n"
   ]
  },
  {
   "cell_type": "markdown",
   "id": "db248004",
   "metadata": {},
   "source": [
    "As a result, we generated a table that shows the number of reviews and the average rating for each book."
   ]
  },
  {
   "cell_type": "markdown",
   "id": "57da0d37",
   "metadata": {},
   "source": [
    "## Publisher with the Most Books over 50 Pages"
   ]
  },
  {
   "cell_type": "code",
   "execution_count": 9,
   "id": "e5789304",
   "metadata": {},
   "outputs": [
    {
     "data": {
      "text/html": [
       "<div>\n",
       "<style scoped>\n",
       "    .dataframe tbody tr th:only-of-type {\n",
       "        vertical-align: middle;\n",
       "    }\n",
       "\n",
       "    .dataframe tbody tr th {\n",
       "        vertical-align: top;\n",
       "    }\n",
       "\n",
       "    .dataframe thead th {\n",
       "        text-align: right;\n",
       "    }\n",
       "</style>\n",
       "<table border=\"1\" class=\"dataframe\">\n",
       "  <thead>\n",
       "    <tr style=\"text-align: right;\">\n",
       "      <th></th>\n",
       "      <th>publisher</th>\n",
       "      <th>quantity</th>\n",
       "    </tr>\n",
       "  </thead>\n",
       "  <tbody>\n",
       "    <tr>\n",
       "      <th>0</th>\n",
       "      <td>Penguin Books</td>\n",
       "      <td>42</td>\n",
       "    </tr>\n",
       "  </tbody>\n",
       "</table>\n",
       "</div>"
      ],
      "text/plain": [
       "       publisher  quantity\n",
       "0  Penguin Books        42"
      ]
     },
     "execution_count": 9,
     "metadata": {},
     "output_type": "execute_result"
    }
   ],
   "source": [
    "query = \"\"\"SELECT DISTINCT publisher,\n",
    "                  COUNT(book_id) OVER (PARTITION BY publisher_id) as quantity\n",
    "           FROM books as b\n",
    "           LEFT JOIN publishers as p USING(publisher_id)\n",
    "           WHERE b.num_pages > 50\n",
    "           ORDER BY quantity DESC\n",
    "           LIMIT 1\"\"\"\n",
    "\n",
    "con = engine.connect()\n",
    "\n",
    "pd.io.sql.read_sql(sql=text(query), con=con)"
   ]
  },
  {
   "cell_type": "markdown",
   "id": "fa9e765b",
   "metadata": {},
   "source": [
    "\n",
    "Penguin Books has released the highest number of books - 42."
   ]
  },
  {
   "cell_type": "markdown",
   "id": "6b7407df",
   "metadata": {},
   "source": [
    "## Author with the Highest Average Rating (50 or More Ratings)"
   ]
  },
  {
   "cell_type": "code",
   "execution_count": 10,
   "id": "64d9231c",
   "metadata": {},
   "outputs": [
    {
     "data": {
      "text/html": [
       "<div>\n",
       "<style scoped>\n",
       "    .dataframe tbody tr th:only-of-type {\n",
       "        vertical-align: middle;\n",
       "    }\n",
       "\n",
       "    .dataframe tbody tr th {\n",
       "        vertical-align: top;\n",
       "    }\n",
       "\n",
       "    .dataframe thead th {\n",
       "        text-align: right;\n",
       "    }\n",
       "</style>\n",
       "<table border=\"1\" class=\"dataframe\">\n",
       "  <thead>\n",
       "    <tr style=\"text-align: right;\">\n",
       "      <th></th>\n",
       "      <th>author</th>\n",
       "      <th>avg_rating</th>\n",
       "    </tr>\n",
       "  </thead>\n",
       "  <tbody>\n",
       "    <tr>\n",
       "      <th>0</th>\n",
       "      <td>J.K. Rowling/Mary GrandPré</td>\n",
       "      <td>4.3</td>\n",
       "    </tr>\n",
       "  </tbody>\n",
       "</table>\n",
       "</div>"
      ],
      "text/plain": [
       "                       author  avg_rating\n",
       "0  J.K. Rowling/Mary GrandPré         4.3"
      ]
     },
     "execution_count": 10,
     "metadata": {},
     "output_type": "execute_result"
    }
   ],
   "source": [
    "query = \"\"\"WITH temp AS (SELECT *,\n",
    "                  COUNT(rating_id) OVER (PARTITION BY book_id) as quantity\n",
    "           FROM ratings)\n",
    "           SELECT author,\n",
    "                  ROUND(AVG(rating) OVER (PARTITION BY author_id), 1) as avg_rating\n",
    "           FROM temp\n",
    "           JOIN books as b USING(book_id)\n",
    "           JOIN author as a USING(author_id)\n",
    "           WHERE quantity >= 50\n",
    "           ORDER BY avg_rating DESC\n",
    "           LIMIT 1\"\"\"\n",
    "\n",
    "con = engine.connect()\n",
    "\n",
    "pd.io.sql.read_sql(sql=text(query), con=con)"
   ]
  },
  {
   "cell_type": "markdown",
   "id": "66794d3e",
   "metadata": {},
   "source": [
    "\n",
    "The book with the highest average rating is by J.K. Rowling and Mary GrandPré, with a rating of 4.3."
   ]
  },
  {
   "cell_type": "markdown",
   "id": "1543488e",
   "metadata": {},
   "source": [
    "## Average Number of Reviews from Users Who Have Given More Than 48 Ratings"
   ]
  },
  {
   "cell_type": "code",
   "execution_count": 11,
   "id": "e5a04540",
   "metadata": {},
   "outputs": [
    {
     "data": {
      "text/html": [
       "<div>\n",
       "<style scoped>\n",
       "    .dataframe tbody tr th:only-of-type {\n",
       "        vertical-align: middle;\n",
       "    }\n",
       "\n",
       "    .dataframe tbody tr th {\n",
       "        vertical-align: top;\n",
       "    }\n",
       "\n",
       "    .dataframe thead th {\n",
       "        text-align: right;\n",
       "    }\n",
       "</style>\n",
       "<table border=\"1\" class=\"dataframe\">\n",
       "  <thead>\n",
       "    <tr style=\"text-align: right;\">\n",
       "      <th></th>\n",
       "      <th>avg</th>\n",
       "    </tr>\n",
       "  </thead>\n",
       "  <tbody>\n",
       "    <tr>\n",
       "      <th>0</th>\n",
       "      <td>24.0</td>\n",
       "    </tr>\n",
       "  </tbody>\n",
       "</table>\n",
       "</div>"
      ],
      "text/plain": [
       "    avg\n",
       "0  24.0"
      ]
     },
     "execution_count": 11,
     "metadata": {},
     "output_type": "execute_result"
    }
   ],
   "source": [
    "query = \"\"\"SELECT AVG(q_reviews)\n",
    "           FROM (SELECT username, COUNT(*) q_reviews\n",
    "                 FROM reviews\n",
    "                 WHERE username IN (SELECT username\n",
    "                                    FROM ratings\n",
    "                                    GROUP BY username\n",
    "                                    HAVING COUNT(*) > 48)\n",
    "           GROUP BY username) r\"\"\"\n",
    "\n",
    "con = engine.connect()\n",
    "\n",
    "pd.io.sql.read_sql(sql=text(query), con=con)"
   ]
  },
  {
   "cell_type": "markdown",
   "id": "0a0d6349",
   "metadata": {},
   "source": [
    "\n",
    "The average number of reviews from users who have given more than 48 ratings is 24."
   ]
  },
  {
   "cell_type": "markdown",
   "id": "8c15a96a",
   "metadata": {},
   "source": [
    "## Conclusion"
   ]
  },
  {
   "cell_type": "markdown",
   "id": "2231c9dd",
   "metadata": {},
   "source": [
    "\n",
    "\n",
    "Based on the analysis, we have determined the following:\n",
    "- 819 books were released after January 1, 2000.\n",
    "- Penguin Books has released the highest number of books - 42.\n",
    "- The book by J.K. Rowling and Mary GrandPré has the highest average rating of 4.3.\n",
    "- The average number of reviews from users who have given more than 48 ratings is 24.\n",
    "- We have also supplemented the table with the number of reviews and average rating for each book.\n"
   ]
  }
 ],
 "metadata": {
  "ExecuteTimeLog": [
   {
    "duration": 13563,
    "start_time": "2023-05-15T18:43:38.447Z"
   },
   {
    "duration": 51,
    "start_time": "2023-05-15T18:43:52.012Z"
   },
   {
    "duration": 9,
    "start_time": "2023-05-15T18:43:52.065Z"
   },
   {
    "duration": 13,
    "start_time": "2023-05-15T18:43:52.076Z"
   },
   {
    "duration": 10,
    "start_time": "2023-05-15T18:43:52.091Z"
   },
   {
    "duration": 10,
    "start_time": "2023-05-15T18:43:52.102Z"
   },
   {
    "duration": 51,
    "start_time": "2023-05-15T18:43:52.114Z"
   },
   {
    "duration": 13,
    "start_time": "2023-05-15T18:43:52.167Z"
   },
   {
    "duration": 24,
    "start_time": "2023-05-15T18:43:52.182Z"
   },
   {
    "duration": 11,
    "start_time": "2023-05-15T18:43:52.207Z"
   },
   {
    "duration": 24,
    "start_time": "2023-05-15T18:48:58.664Z"
   },
   {
    "duration": 19,
    "start_time": "2023-05-15T18:49:05.192Z"
   },
   {
    "duration": 47,
    "start_time": "2023-05-15T19:22:31.205Z"
   },
   {
    "duration": 8871,
    "start_time": "2023-05-15T19:22:38.321Z"
   },
   {
    "duration": 42,
    "start_time": "2023-05-15T19:22:47.197Z"
   },
   {
    "duration": 64,
    "start_time": "2023-05-15T19:22:47.240Z"
   },
   {
    "duration": 12,
    "start_time": "2023-05-15T19:22:47.306Z"
   },
   {
    "duration": 77,
    "start_time": "2023-05-15T19:22:47.319Z"
   },
   {
    "duration": 203,
    "start_time": "2023-05-15T19:22:47.398Z"
   },
   {
    "duration": 0,
    "start_time": "2023-05-15T19:22:47.603Z"
   },
   {
    "duration": 0,
    "start_time": "2023-05-15T19:22:47.604Z"
   },
   {
    "duration": 0,
    "start_time": "2023-05-15T19:22:47.605Z"
   },
   {
    "duration": 0,
    "start_time": "2023-05-15T19:22:47.606Z"
   },
   {
    "duration": 0,
    "start_time": "2023-05-15T19:22:47.607Z"
   },
   {
    "duration": 28,
    "start_time": "2023-05-15T19:23:25.357Z"
   },
   {
    "duration": 40,
    "start_time": "2023-05-15T19:26:33.287Z"
   },
   {
    "duration": 38,
    "start_time": "2023-05-15T19:26:59.518Z"
   },
   {
    "duration": 49,
    "start_time": "2023-05-15T19:27:07.156Z"
   },
   {
    "duration": 22,
    "start_time": "2023-05-15T19:28:37.051Z"
   },
   {
    "duration": 54,
    "start_time": "2023-05-15T19:30:44.975Z"
   },
   {
    "duration": 60,
    "start_time": "2023-05-15T19:33:00.953Z"
   },
   {
    "duration": 13865,
    "start_time": "2023-05-16T09:20:32.594Z"
   },
   {
    "duration": 91,
    "start_time": "2023-05-16T09:20:46.461Z"
   },
   {
    "duration": 9,
    "start_time": "2023-05-16T09:20:46.553Z"
   },
   {
    "duration": 9,
    "start_time": "2023-05-16T09:20:46.564Z"
   },
   {
    "duration": 51,
    "start_time": "2023-05-16T09:20:46.575Z"
   },
   {
    "duration": 11,
    "start_time": "2023-05-16T09:20:46.627Z"
   },
   {
    "duration": 8,
    "start_time": "2023-05-16T09:20:46.639Z"
   },
   {
    "duration": 81,
    "start_time": "2023-05-16T09:20:46.648Z"
   },
   {
    "duration": 12,
    "start_time": "2023-05-16T09:20:46.731Z"
   },
   {
    "duration": 18,
    "start_time": "2023-05-16T09:20:46.744Z"
   },
   {
    "duration": 18,
    "start_time": "2023-05-16T09:20:46.763Z"
   },
   {
    "duration": 68,
    "start_time": "2023-05-16T09:21:29.816Z"
   },
   {
    "duration": 47,
    "start_time": "2023-05-16T09:21:38.623Z"
   },
   {
    "duration": 80,
    "start_time": "2023-05-16T09:33:22.701Z"
   },
   {
    "duration": 86,
    "start_time": "2023-05-16T09:34:06.262Z"
   },
   {
    "duration": 45,
    "start_time": "2023-05-16T09:37:21.600Z"
   },
   {
    "duration": 27,
    "start_time": "2023-05-16T09:38:09.224Z"
   },
   {
    "duration": 56,
    "start_time": "2023-05-16T09:41:10.100Z"
   },
   {
    "duration": 69,
    "start_time": "2023-05-16T09:41:40.203Z"
   },
   {
    "duration": 49,
    "start_time": "2023-05-16T09:43:11.807Z"
   },
   {
    "duration": 153,
    "start_time": "2023-05-16T09:44:37.001Z"
   },
   {
    "duration": 20,
    "start_time": "2023-05-16T09:45:05.637Z"
   },
   {
    "duration": 95,
    "start_time": "2023-05-16T09:46:19.050Z"
   },
   {
    "duration": 74,
    "start_time": "2023-05-16T09:46:26.123Z"
   },
   {
    "duration": 63,
    "start_time": "2023-05-16T09:47:25.495Z"
   },
   {
    "duration": 53,
    "start_time": "2023-05-16T09:47:42.444Z"
   },
   {
    "duration": 31,
    "start_time": "2023-05-16T09:47:57.641Z"
   },
   {
    "duration": 45,
    "start_time": "2023-05-16T09:48:10.922Z"
   },
   {
    "duration": 37,
    "start_time": "2023-05-16T09:48:25.136Z"
   },
   {
    "duration": 149,
    "start_time": "2023-05-16T09:50:45.100Z"
   },
   {
    "duration": 104,
    "start_time": "2023-05-16T09:51:09.621Z"
   },
   {
    "duration": 20,
    "start_time": "2023-05-16T09:53:51.146Z"
   },
   {
    "duration": 41,
    "start_time": "2023-05-16T09:54:01.826Z"
   },
   {
    "duration": 144,
    "start_time": "2023-05-16T09:56:21.919Z"
   },
   {
    "duration": 70,
    "start_time": "2023-05-16T09:56:39.620Z"
   },
   {
    "duration": 55,
    "start_time": "2023-05-16T09:56:49.809Z"
   },
   {
    "duration": 39,
    "start_time": "2023-05-16T09:57:21.652Z"
   },
   {
    "duration": 66,
    "start_time": "2023-05-16T09:57:33.402Z"
   },
   {
    "duration": 56,
    "start_time": "2023-05-16T09:57:53.415Z"
   },
   {
    "duration": 44,
    "start_time": "2023-05-16T09:58:01.927Z"
   },
   {
    "duration": 34,
    "start_time": "2023-05-16T10:01:46.649Z"
   },
   {
    "duration": 70,
    "start_time": "2023-05-16T10:04:32.994Z"
   },
   {
    "duration": 37,
    "start_time": "2023-05-16T10:05:14.162Z"
   },
   {
    "duration": 61,
    "start_time": "2023-05-16T10:05:59.996Z"
   },
   {
    "duration": 57,
    "start_time": "2023-05-16T10:06:14.014Z"
   },
   {
    "duration": 35,
    "start_time": "2023-05-16T10:06:46.424Z"
   },
   {
    "duration": 36,
    "start_time": "2023-05-16T10:07:13.524Z"
   },
   {
    "duration": 118,
    "start_time": "2023-05-16T10:07:55.254Z"
   },
   {
    "duration": 82,
    "start_time": "2023-05-16T10:08:25.955Z"
   },
   {
    "duration": 66,
    "start_time": "2023-05-16T10:08:43.606Z"
   },
   {
    "duration": 28,
    "start_time": "2023-05-16T10:12:34.551Z"
   },
   {
    "duration": 198,
    "start_time": "2023-05-16T10:13:03.858Z"
   },
   {
    "duration": 43,
    "start_time": "2023-05-16T10:13:35.212Z"
   },
   {
    "duration": 36,
    "start_time": "2023-05-16T10:13:50.206Z"
   }
  ],
  "kernelspec": {
   "display_name": "Python 3 (ipykernel)",
   "language": "python",
   "name": "python3"
  },
  "language_info": {
   "codemirror_mode": {
    "name": "ipython",
    "version": 3
   },
   "file_extension": ".py",
   "mimetype": "text/x-python",
   "name": "python",
   "nbconvert_exporter": "python",
   "pygments_lexer": "ipython3",
   "version": "3.9.13"
  },
  "toc": {
   "base_numbering": 1,
   "nav_menu": {},
   "number_sections": true,
   "sideBar": true,
   "skip_h1_title": false,
   "title_cell": "Table of Contents",
   "title_sidebar": "Contents",
   "toc_cell": false,
   "toc_position": {
    "height": "calc(100% - 180px)",
    "left": "10px",
    "top": "150px",
    "width": "384px"
   },
   "toc_section_display": true,
   "toc_window_display": true
  }
 },
 "nbformat": 4,
 "nbformat_minor": 5
}
